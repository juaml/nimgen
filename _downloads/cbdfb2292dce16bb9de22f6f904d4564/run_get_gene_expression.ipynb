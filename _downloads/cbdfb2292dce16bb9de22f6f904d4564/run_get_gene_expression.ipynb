{
  "cells": [
    {
      "cell_type": "code",
      "execution_count": null,
      "metadata": {
        "collapsed": false
      },
      "outputs": [],
      "source": [
        "%matplotlib inline"
      ]
    },
    {
      "cell_type": "markdown",
      "metadata": {},
      "source": [
        "\n# Get gene expression from atlas\n"
      ]
    },
    {
      "cell_type": "code",
      "execution_count": null,
      "metadata": {
        "collapsed": false
      },
      "outputs": [],
      "source": [
        "# Authors: Federico Raimondo <f.raimondo@fz-juelich.de>\n#          Sami Hamdan <s.hamdan@fz-juelich.de>\n#          Vera Komeyer <v.komeyer@fz-juelich.de>\n# License: AGPL\nimport nimgen\nimport pandas as pd\n\n\natlas = './data/Power_5mm.nii'\nweights = pd.read_csv('./data/rehoavg.txt', header=None)\nallen_data_dir = './data/allen'\n\ngenes = nimgen.get_gene_expression(\n    weights, atlas, allen_data_dir=allen_data_dir, save_expressions=True)\n\nprint(genes[:10])"
      ]
    }
  ],
  "metadata": {
    "kernelspec": {
      "display_name": "Python 3",
      "language": "python",
      "name": "python3"
    },
    "language_info": {
      "codemirror_mode": {
        "name": "ipython",
        "version": 3
      },
      "file_extension": ".py",
      "mimetype": "text/x-python",
      "name": "python",
      "nbconvert_exporter": "python",
      "pygments_lexer": "ipython3",
      "version": "3.9.2"
    }
  },
  "nbformat": 4,
  "nbformat_minor": 0
}